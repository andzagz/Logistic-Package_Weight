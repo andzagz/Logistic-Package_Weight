{
  "nbformat": 4,
  "nbformat_minor": 0,
  "metadata": {
    "colab": {
      "provenance": [],
      "authorship_tag": "ABX9TyPyMVlllpNFwGZqyCB+jODf",
      "include_colab_link": true
    },
    "kernelspec": {
      "name": "python3",
      "display_name": "Python 3"
    },
    "language_info": {
      "name": "python"
    }
  },
  "cells": [
    {
      "cell_type": "markdown",
      "metadata": {
        "id": "view-in-github",
        "colab_type": "text"
      },
      "source": [
        "<a href=\"https://colab.research.google.com/github/andzagz/Logistic-Package_Weight/blob/main/package_weight.ipynb\" target=\"_parent\"><img src=\"https://colab.research.google.com/assets/colab-badge.svg\" alt=\"Open In Colab\"/></a>"
      ]
    },
    {
      "cell_type": "code",
      "source": [
        "import pandas as pd\n",
        "import numpy as np\n",
        "\n",
        "# Generate original data for 100 packages\n",
        "np.random.seed(0)\n",
        "cubagem_data = pd.DataFrame({\n",
        "    'Package ID': range(1, 101),\n",
        "    'Weight': np.random.uniform(1, 50, 100),\n",
        "    'Height': np.random.uniform(10, 100, 100),\n",
        "    'Width': np.random.uniform(10, 100, 100),\n",
        "    'Depth': np.random.uniform(10, 100, 100),\n",
        "    'Product Type': np.random.choice(['Electronics', 'Pharmaceuticals', 'Clothing'], 100),\n",
        "    'Fragility': np.random.choice([True, False], 100),\n",
        "    'Vehicle ID': np.random.choice(['V1', 'V2', 'V3'], 100),\n",
        "    'Vehicle Capacity': np.random.choice([200, 300, 400], 100)\n",
        "})\n",
        "\n",
        "# Defining the vehicle capacities\n",
        "vehicle_capacity = {'V1': 200, 'V2': 300, 'V3': 400}\n",
        "\n",
        "# Dynamic programming function for package allocation\n",
        "def allocate_packages(cubagem_data, vehicle_capacity):\n",
        "    packages = cubagem_data.index.tolist()\n",
        "    vehicles = cubagem_data['Vehicle ID'].unique()\n",
        "\n",
        "    # Initializing allocations\n",
        "    allocation = {v: [] for v in vehicles}\n",
        "    occupied_weight = {v: 0 for v in vehicles}\n",
        "\n",
        "    # Sort packages by weight in descending order\n",
        "    sorted_packages = cubagem_data.sort_values(by='Weight', ascending=False)\n",
        "\n",
        "    for i, package in sorted_packages.iterrows():\n",
        "        vehicle = package['Vehicle ID']\n",
        "        package_weight = package['Weight']\n",
        "\n",
        "        if occupied_weight[vehicle] + package_weight <= vehicle_capacity[vehicle]:\n",
        "            allocation[vehicle].append(i)\n",
        "            occupied_weight[vehicle] += package_weight\n",
        "\n",
        "    # Create the final DataFrame\n",
        "    cubagem_data['Allocated to Vehicle'] = 'Not Allocated'\n",
        "    for vehicle, allocated_packages in allocation.items():\n",
        "        cubagem_data.loc[allocated_packages, 'Allocated to Vehicle'] = vehicle\n",
        "\n",
        "    return allocation, occupied_weight, cubagem_data\n",
        "\n",
        "# Allocate packages and get the results\n",
        "allocation, occupied_weight, cubagem_data_allocated = allocate_packages(cubagem_data, vehicle_capacity)\n",
        "\n",
        "# Print the total weight loaded for each vehicle\n",
        "print(\"Total Weight Loaded by Vehicle:\")\n",
        "for vehicle, weight in occupied_weight.items():\n",
        "    print(f\"Vehicle {vehicle}: Occupied Weight: {weight} kg\")\n",
        "\n",
        "# Print the final table\n",
        "print(\"\\nFinal Table with Allocation:\")\n",
        "print(cubagem_data_allocated[['Package ID', 'Weight', 'Height', 'Width', 'Depth', 'Product Type', 'Fragility', 'Allocated to Vehicle']])\n"
      ],
      "metadata": {
        "colab": {
          "base_uri": "https://localhost:8080/"
        },
        "id": "k0GzDGQW7KBw",
        "outputId": "b1fada7c-71e1-4a6a-de33-5445c53e4ac3"
      },
      "execution_count": null,
      "outputs": [
        {
          "output_type": "stream",
          "name": "stdout",
          "text": [
            "Peso Total Carregado por Veículo:\n",
            "Veículo V1: Peso Ocupado: 199.8401345131973 kg\n",
            "Veículo V2: Peso Ocupado: 299.5154203456727 kg\n",
            "Veículo V3: Peso Ocupado: 399.46337904915856 kg\n",
            "\n",
            "Tabela Final com Alocação:\n",
            "    ID do Pacote       Peso     Altura    Largura  Profundidade  \\\n",
            "0              1  27.891862  71.003488  38.061629     91.589995   \n",
            "1              2  36.044279  34.300718  72.670914     79.664260   \n",
            "2              3  30.535405  76.167462  43.997666     39.983064   \n",
            "3              4  27.699276  96.596969  26.164331     17.299125   \n",
            "4              5  21.759085  32.387783  12.221086     46.651705   \n",
            "..           ...        ...        ...        ...           ...   \n",
            "95            96   9.976377  54.141293  30.188533     96.308445   \n",
            "96            97  29.739134  30.467317  18.806004     41.983196   \n",
            "97            98   1.985270  32.892083  87.597237     42.103620   \n",
            "98            99  41.618061  15.222624  97.562754     11.469565   \n",
            "99           100   1.230078  49.097496  96.475119     26.670909   \n",
            "\n",
            "   Tipo de Produto  Fragilidade Alocado em Veículo  \n",
            "0    Farmacêuticos         True        Não Alocado  \n",
            "1      Eletrônicos        False        Não Alocado  \n",
            "2    Farmacêuticos         True        Não Alocado  \n",
            "3      Eletrônicos         True        Não Alocado  \n",
            "4        Vestuário        False        Não Alocado  \n",
            "..             ...          ...                ...  \n",
            "95     Eletrônicos         True        Não Alocado  \n",
            "96   Farmacêuticos         True        Não Alocado  \n",
            "97       Vestuário        False        Não Alocado  \n",
            "98     Eletrônicos         True        Não Alocado  \n",
            "99     Eletrônicos         True        Não Alocado  \n",
            "\n",
            "[100 rows x 8 columns]\n"
          ]
        }
      ]
    },
    {
      "cell_type": "code",
      "source": [
        "# Reorder the table based on the provided criteria\n",
        "\n",
        "# Define a custom order for the 'Allocated to Vehicle' column\n",
        "allocation_order = {'V1': 1, 'V2': 2, 'V3': 3, 'Not Allocated': 4}\n",
        "\n",
        "# Add an auxiliary column for the custom order\n",
        "cubagem_data_allocated['Allocation Order'] = cubagem_data_allocated['Allocated to Vehicle'].map(allocation_order)\n",
        "\n",
        "# Sort by weight in descending order\n",
        "cubagem_data_allocated = cubagem_data_allocated.sort_values(by=['Allocation Order', 'Fragility', 'Weight'], ascending=[True, True, False])\n",
        "\n",
        "# Remove the auxiliary column used for sorting\n",
        "cubagem_data_allocated = cubagem_data_allocated.drop(columns=['Allocation Order'])\n",
        "\n",
        "# Display the reordered DataFrame\n",
        "print(\"\\nReordered Table:\")\n",
        "print(cubagem_data_allocated[['Package ID', 'Weight', 'Height', 'Width', 'Depth', 'Product Type', 'Fragility', 'Allocated to Vehicle']])\n"
      ],
      "metadata": {
        "colab": {
          "base_uri": "https://localhost:8080/"
        },
        "id": "9dDIzANW9pox",
        "outputId": "29965363-03b4-4c2e-a919-03a8bc239565"
      },
      "execution_count": null,
      "outputs": [
        {
          "output_type": "stream",
          "name": "stdout",
          "text": [
            "\n",
            "Tabela Reordenada:\n",
            "    ID do Pacote       Peso     Altura    Largura  Profundidade  \\\n",
            "72            73  48.861293  27.999687  40.434306     78.110078   \n",
            "8              9  48.219475  30.077347  58.292129     75.303493   \n",
            "27            28  47.288777  37.141734  29.395691     72.606290   \n",
            "68            69  42.059300  75.699151  15.755974     91.363995   \n",
            "57            58  13.411289  61.219066  62.602846     21.597451   \n",
            "..           ...        ...        ...        ...           ...   \n",
            "69            70   5.708822  25.446671  53.706484     72.102252   \n",
            "82            83   4.143227  61.950573  65.608902     95.668703   \n",
            "75            76   2.920202  30.153222  95.438694     24.448494   \n",
            "34            35   1.920700  61.296842  28.672307     80.082586   \n",
            "99           100   1.230078  49.097496  96.475119     26.670909   \n",
            "\n",
            "   Tipo de Produto  Fragilidade Alocado em Veículo  \n",
            "72     Eletrônicos        False                 V1  \n",
            "8      Eletrônicos        False                 V1  \n",
            "27   Farmacêuticos         True                 V1  \n",
            "68     Eletrônicos         True                 V1  \n",
            "57   Farmacêuticos         True                 V1  \n",
            "..             ...          ...                ...  \n",
            "69     Eletrônicos         True        Não Alocado  \n",
            "82   Farmacêuticos         True        Não Alocado  \n",
            "75   Farmacêuticos         True        Não Alocado  \n",
            "34   Farmacêuticos         True        Não Alocado  \n",
            "99     Eletrônicos         True        Não Alocado  \n",
            "\n",
            "[100 rows x 8 columns]\n"
          ]
        }
      ]
    },
    {
      "cell_type": "code",
      "source": [
        "!pip install openpyxl\n"
      ],
      "metadata": {
        "colab": {
          "base_uri": "https://localhost:8080/"
        },
        "id": "FLHZ2-2x-HMh",
        "outputId": "a3551f19-2a0b-49b6-be19-10d19d6ee3f3"
      },
      "execution_count": null,
      "outputs": [
        {
          "output_type": "stream",
          "name": "stdout",
          "text": [
            "Requirement already satisfied: openpyxl in /usr/local/lib/python3.10/dist-packages (3.1.5)\n",
            "Requirement already satisfied: et-xmlfile in /usr/local/lib/python3.10/dist-packages (from openpyxl) (1.1.0)\n"
          ]
        }
      ]
    },
    {
      "cell_type": "code",
      "source": [
        "import pandas as pd\n",
        "\n",
        "# Reorder the table based on the provided criteria\n",
        "\n",
        "# Define a custom order for the 'Allocated to Vehicle' column\n",
        "allocation_order = {'V1': 1, 'V2': 2, 'V3': 3, 'Not Allocated': 4}\n",
        "\n",
        "# Add an auxiliary column for the custom order\n",
        "cubagem_data_allocated['Allocation Order'] = cubagem_data_allocated['Allocated to Vehicle'].map(allocation_order)\n",
        "\n",
        "# Sort by weight in descending order\n",
        "cubagem_data_allocated = cubagem_data_allocated.sort_values(by=['Allocation Order', 'Fragility', 'Weight'], ascending=[True, True, False])\n",
        "\n",
        "# Remove the auxiliary column used for sorting\n",
        "cubagem_data_allocated = cubagem_data_allocated.drop(columns=['Allocation Order'])\n",
        "\n",
        "# Export the reordered DataFrame to an Excel file\n",
        "excel_file = 'cubagem_data_allocated_reordered.xlsx'\n",
        "cubagem_data_allocated.to_excel(excel_file, index=False, engine='openpyxl')\n",
        "\n",
        "print(f\"The DataFrame has been exported to {excel_file}.\")\n"
      ],
      "metadata": {
        "colab": {
          "base_uri": "https://localhost:8080/"
        },
        "id": "W-R6bVt9-NER",
        "outputId": "a3102dde-5f1a-450c-b3e0-675977cb83ab"
      },
      "execution_count": null,
      "outputs": [
        {
          "output_type": "stream",
          "name": "stdout",
          "text": [
            "O DataFrame foi exportado para cubagem_data_alocada_reordenada.xlsx.\n"
          ]
        }
      ]
    },
    {
      "cell_type": "code",
      "source": [
        "from google.colab import files\n",
        "\n",
        "arquivo_excel = 'cubagem_data_alocada_reordenada.xlsx'\n",
        "cubagem_data_alocada.to_excel(arquivo_excel, index=False, engine='openpyxl')\n",
        "\n",
        "# download\n",
        "files.download(arquivo_excel)\n"
      ],
      "metadata": {
        "colab": {
          "base_uri": "https://localhost:8080/",
          "height": 17
        },
        "id": "kizPejNm-0Ku",
        "outputId": "ad5860ca-9972-4a38-828f-f06192fe8c4b"
      },
      "execution_count": null,
      "outputs": [
        {
          "output_type": "display_data",
          "data": {
            "text/plain": [
              "<IPython.core.display.Javascript object>"
            ],
            "application/javascript": [
              "\n",
              "    async function download(id, filename, size) {\n",
              "      if (!google.colab.kernel.accessAllowed) {\n",
              "        return;\n",
              "      }\n",
              "      const div = document.createElement('div');\n",
              "      const label = document.createElement('label');\n",
              "      label.textContent = `Downloading \"${filename}\": `;\n",
              "      div.appendChild(label);\n",
              "      const progress = document.createElement('progress');\n",
              "      progress.max = size;\n",
              "      div.appendChild(progress);\n",
              "      document.body.appendChild(div);\n",
              "\n",
              "      const buffers = [];\n",
              "      let downloaded = 0;\n",
              "\n",
              "      const channel = await google.colab.kernel.comms.open(id);\n",
              "      // Send a message to notify the kernel that we're ready.\n",
              "      channel.send({})\n",
              "\n",
              "      for await (const message of channel.messages) {\n",
              "        // Send a message to notify the kernel that we're ready.\n",
              "        channel.send({})\n",
              "        if (message.buffers) {\n",
              "          for (const buffer of message.buffers) {\n",
              "            buffers.push(buffer);\n",
              "            downloaded += buffer.byteLength;\n",
              "            progress.value = downloaded;\n",
              "          }\n",
              "        }\n",
              "      }\n",
              "      const blob = new Blob(buffers, {type: 'application/binary'});\n",
              "      const a = document.createElement('a');\n",
              "      a.href = window.URL.createObjectURL(blob);\n",
              "      a.download = filename;\n",
              "      div.appendChild(a);\n",
              "      a.click();\n",
              "      div.remove();\n",
              "    }\n",
              "  "
            ]
          },
          "metadata": {}
        },
        {
          "output_type": "display_data",
          "data": {
            "text/plain": [
              "<IPython.core.display.Javascript object>"
            ],
            "application/javascript": [
              "download(\"download_f314f441-a7dd-427a-b835-b3149e7a90fe\", \"cubagem_data_alocada_reordenada.xlsx\", 13532)"
            ]
          },
          "metadata": {}
        }
      ]
    },
    {
      "cell_type": "code",
      "source": [
        "from google.colab import files\n",
        "\n",
        "# Create the content for README.md\n",
        "readme_content = \"\"\"\n",
        "# Logistical Load Maximization Project: Packing Analysis\n",
        "\n",
        "## Introduction\n",
        "\n",
        "This project aims to enhance logistical capabilities through the maximization of package load, considering constraints related to fragility and vehicle weight.\n",
        "\n",
        "## Project Structure\n",
        "\n",
        "The project consists of a Python script utilizing the `pandas` and `numpy` libraries to perform the following stages:\n",
        "\n",
        "1. **Data Generation**: Random generation of package data.\n",
        "2. **Linear Programming**: Using the PULP library, weight and fragility constraints were defined, as well as the allocation of each package to one of the vehicles.\n",
        "   The problem was structured within a Machine Learning framework, solved through maximization.\n",
        "3. **Load**: Exporting the processed data.\n",
        "\n",
        "## Usage\n",
        "\n",
        "1. Clone this repository or download the Python script.\n",
        "2. Run the script in a Python environment.\n",
        "\n",
        "## Features\n",
        "\n",
        "- The data is generated by the code itself; feel free to substitute it.\n",
        "- Processes and cleans the collected data.\n",
        "\n",
        "\"\"\"\n",
        "\n",
        "# Save the content to a README.md file\n",
        "with open('READMEpackage-weight.md', 'w') as f:\n",
        "    f.write(readme_content)\n",
        "\n",
        "# Download the README.md file\n",
        "files.download('READMEpackage-weight.md')\n"
      ],
      "metadata": {
        "colab": {
          "base_uri": "https://localhost:8080/",
          "height": 17
        },
        "id": "JOgiOtnLKHnT",
        "outputId": "2b2d085a-a733-4199-8ee0-db37b148565b"
      },
      "execution_count": null,
      "outputs": [
        {
          "output_type": "display_data",
          "data": {
            "text/plain": [
              "<IPython.core.display.Javascript object>"
            ],
            "application/javascript": [
              "\n",
              "    async function download(id, filename, size) {\n",
              "      if (!google.colab.kernel.accessAllowed) {\n",
              "        return;\n",
              "      }\n",
              "      const div = document.createElement('div');\n",
              "      const label = document.createElement('label');\n",
              "      label.textContent = `Downloading \"${filename}\": `;\n",
              "      div.appendChild(label);\n",
              "      const progress = document.createElement('progress');\n",
              "      progress.max = size;\n",
              "      div.appendChild(progress);\n",
              "      document.body.appendChild(div);\n",
              "\n",
              "      const buffers = [];\n",
              "      let downloaded = 0;\n",
              "\n",
              "      const channel = await google.colab.kernel.comms.open(id);\n",
              "      // Send a message to notify the kernel that we're ready.\n",
              "      channel.send({})\n",
              "\n",
              "      for await (const message of channel.messages) {\n",
              "        // Send a message to notify the kernel that we're ready.\n",
              "        channel.send({})\n",
              "        if (message.buffers) {\n",
              "          for (const buffer of message.buffers) {\n",
              "            buffers.push(buffer);\n",
              "            downloaded += buffer.byteLength;\n",
              "            progress.value = downloaded;\n",
              "          }\n",
              "        }\n",
              "      }\n",
              "      const blob = new Blob(buffers, {type: 'application/binary'});\n",
              "      const a = document.createElement('a');\n",
              "      a.href = window.URL.createObjectURL(blob);\n",
              "      a.download = filename;\n",
              "      div.appendChild(a);\n",
              "      a.click();\n",
              "      div.remove();\n",
              "    }\n",
              "  "
            ]
          },
          "metadata": {}
        },
        {
          "output_type": "display_data",
          "data": {
            "text/plain": [
              "<IPython.core.display.Javascript object>"
            ],
            "application/javascript": [
              "download(\"download_e5a72475-1c3a-411f-84b7-882dc4390c22\", \"READMEpackage-weight.md\", 980)"
            ]
          },
          "metadata": {}
        }
      ]
    }
  ]
}